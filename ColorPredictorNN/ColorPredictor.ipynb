{
 "cells": [
  {
   "cell_type": "code",
   "execution_count": null,
   "id": "a39a8126",
   "metadata": {},
   "outputs": [],
   "source": [
    "import tensorflow as tf\n",
    "from tensorflow import keras\n",
    "from tensorflow.keras import layers\n",
    "import pandas as pd\n",
    "import matplotlib.pyplot as plt\n",
    "import numpy as np\n",
    "import coremltools as cmt\n",
    "from sklearn.model_selection import train_test_split"
   ]
  },
  {
   "cell_type": "markdown",
   "id": "4bcee0cf",
   "metadata": {},
   "source": [
    "# Data Preparation"
   ]
  },
  {
   "cell_type": "code",
   "execution_count": null,
   "id": "8e40f663",
   "metadata": {},
   "outputs": [],
   "source": [
    "data = pd.read_csv('rgb_data.csv')\n",
    "\n",
    "colors = list(set(data.label.values))\n",
    "colorDict = {}\n",
    "    \n",
    "for i in range(len(colors)):\n",
    "    color = colors[i]\n",
    "    colorDict[i] = color\n",
    "    data = data.replace(to_replace=color, value=i)\n",
    "\n",
    "Y = []\n",
    "for item in data['label']:\n",
    "    a = [0,0,0,0,0,0,0,0,0,0,0]\n",
    "    a[item] = 1\n",
    "    Y.append(a)\n",
    "\n",
    "y = pd.DataFrame(Y)\n",
    "X = data[['red','green','blue']]\n",
    "x_train, x_test, y_train, y_test = train_test_split(X,y, test_size= 0.20, random_state=27)"
   ]
  },
  {
   "cell_type": "markdown",
   "id": "361521fc",
   "metadata": {},
   "source": [
    "# Create Model"
   ]
  },
  {
   "cell_type": "code",
   "execution_count": null,
   "id": "1a92d145",
   "metadata": {},
   "outputs": [],
   "source": [
    "model = keras.Sequential()\n",
    "\n",
    "input_layer = layers.Dense(3, activation='relu')\n",
    "hidden_layer1 = layers.Dense(100, activation='relu')\n",
    "hidden_layer2 = layers.Dense(100, activation='relu')\n",
    "hidden_layer3 = layers.Dense(100, activation='relu')\n",
    "output_layer = layers.Dense(11, activation='softmax')\n",
    "\n",
    "for layer in [input_layer, hidden_layer1, hidden_layer2, hidden_layer3, output_layer]:\n",
    "    model.add(layer)\n",
    "    \n",
    "model.compile(optimizer='adam',loss='categorical_crossentropy')\n",
    "\n",
    "history = LossHistory()\n",
    "model.fit(x_train,y_train, epochs=500, steps_per_epoch=1)\n",
    "model.save('ColorModel.h5')"
   ]
  },
  {
   "cell_type": "markdown",
   "id": "46d50f79",
   "metadata": {},
   "source": [
    "# Validate the Model"
   ]
  },
  {
   "cell_type": "code",
   "execution_count": null,
   "id": "2d1ce599",
   "metadata": {},
   "outputs": [],
   "source": [
    "y_hat = model.predict(x_test)\n",
    "score = 0\n",
    "for i in range(len(y_hat)):\n",
    "    score += (np.argmax(y_hat[i]) == np.argmax(np.array(y_test)[i]))\n",
    "score / len(y_hat)"
   ]
  },
  {
   "cell_type": "markdown",
   "id": "06baee79",
   "metadata": {},
   "source": [
    "# CoreML\n",
    "Convert to a CoreML Model using CoreMLTools"
   ]
  },
  {
   "cell_type": "code",
   "execution_count": null,
   "id": "df6dabf9",
   "metadata": {},
   "outputs": [],
   "source": [
    "cmmodel = cmt.converters.convert('ColorModel.h5', input_names='RGB', output_names='probs')\n",
    "cmmodel.save('ColorModel.mlmodel')"
   ]
  },
  {
   "cell_type": "code",
   "execution_count": null,
   "id": "66f0c3ea",
   "metadata": {},
   "outputs": [],
   "source": []
  },
  {
   "cell_type": "code",
   "execution_count": null,
   "id": "728714b1",
   "metadata": {},
   "outputs": [],
   "source": []
  },
  {
   "cell_type": "code",
   "execution_count": null,
   "id": "ed9ff256",
   "metadata": {},
   "outputs": [],
   "source": []
  },
  {
   "cell_type": "code",
   "execution_count": null,
   "id": "e728a80f",
   "metadata": {},
   "outputs": [],
   "source": []
  },
  {
   "cell_type": "code",
   "execution_count": null,
   "id": "4c71f00f",
   "metadata": {},
   "outputs": [],
   "source": []
  },
  {
   "cell_type": "code",
   "execution_count": null,
   "id": "bb527e15",
   "metadata": {},
   "outputs": [],
   "source": []
  },
  {
   "cell_type": "code",
   "execution_count": null,
   "id": "834c642a",
   "metadata": {},
   "outputs": [],
   "source": []
  },
  {
   "cell_type": "code",
   "execution_count": null,
   "id": "afe367e2",
   "metadata": {},
   "outputs": [],
   "source": []
  },
  {
   "cell_type": "code",
   "execution_count": null,
   "id": "fccd1d6e",
   "metadata": {},
   "outputs": [],
   "source": []
  },
  {
   "cell_type": "code",
   "execution_count": null,
   "id": "e93e13ef",
   "metadata": {},
   "outputs": [],
   "source": []
  },
  {
   "cell_type": "code",
   "execution_count": null,
   "id": "28f9b9f6",
   "metadata": {},
   "outputs": [],
   "source": []
  },
  {
   "cell_type": "code",
   "execution_count": null,
   "id": "c55fe9b2",
   "metadata": {},
   "outputs": [],
   "source": []
  },
  {
   "cell_type": "code",
   "execution_count": null,
   "id": "1d7ded39",
   "metadata": {},
   "outputs": [],
   "source": []
  },
  {
   "cell_type": "code",
   "execution_count": null,
   "id": "2606d8c6",
   "metadata": {},
   "outputs": [],
   "source": []
  }
 ],
 "metadata": {
  "kernelspec": {
   "display_name": "Python 3",
   "language": "python",
   "name": "python3"
  },
  "language_info": {
   "codemirror_mode": {
    "name": "ipython",
    "version": 3
   },
   "file_extension": ".py",
   "mimetype": "text/x-python",
   "name": "python",
   "nbconvert_exporter": "python",
   "pygments_lexer": "ipython3",
   "version": "3.9.4"
  }
 },
 "nbformat": 4,
 "nbformat_minor": 5
}
